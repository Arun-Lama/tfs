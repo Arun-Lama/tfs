{
 "cells": [
  {
   "cell_type": "code",
   "execution_count": null,
   "id": "23e27d9a-692d-4bae-ad63-0da4d66c9e98",
   "metadata": {},
   "outputs": [],
   "source": [
    "import requests \n",
    "from bs4 import BeautifulSoup\n",
    "import csv\n",
    "import pandas as pd\n",
    "import time\n",
    "from datetime import datetime\n",
    "import os\n",
    "import numpy as np\n",
    "start_time = time.time()\n",
    "\n",
    "\n",
    "\n",
    "all_info = []\n",
    "for i in range(1, 2):\n",
    "    Newurl = f'https://www.trendfollowingsystem.com/trend-following-indicators/free-trend-following-indicators/page/{i}/'\n",
    "    NewReq = requests.get(Newurl)\n",
    "    Newsoup = BeautifulSoup(NewReq.content, 'html.parser')\n",
    "    a = Newsoup.find(id = \"main\")\n",
    "\n",
    "    for article in a.find_all('article'):\n",
    "        url = article.a.get('href')\n",
    "        title = list(article.a)[-1].get('title').rsplit(' ', 1)[0]\n",
    "        info = {'URL' : url,\n",
    "               'Title' : title\n",
    "                   }\n",
    "        all_info.append(info)\n",
    "        print(title)\n",
    "tfs_indicators = pd.DataFrame(all_info)\n",
    "tfs_indicators"
   ]
  }
 ],
 "metadata": {
  "kernelspec": {
   "display_name": "Python 3 (ipykernel)",
   "language": "python",
   "name": "python3"
  },
  "language_info": {
   "codemirror_mode": {
    "name": "ipython",
    "version": 3
   },
   "file_extension": ".py",
   "mimetype": "text/x-python",
   "name": "python",
   "nbconvert_exporter": "python",
   "pygments_lexer": "ipython3",
   "version": "3.11.9"
  }
 },
 "nbformat": 4,
 "nbformat_minor": 5
}
